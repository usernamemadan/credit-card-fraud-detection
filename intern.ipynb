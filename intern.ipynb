{
  "nbformat": 4,
  "nbformat_minor": 0,
  "metadata": {
    "colab": {
      "name": "itern.ipynb",
      "provenance": [],
      "authorship_tag": "ABX9TyO8WSo4TE3owAnd3AsxhpSf",
      "include_colab_link": true
    },
    "kernelspec": {
      "name": "python3",
      "display_name": "Python 3"
    },
    "language_info": {
      "name": "python"
    }
  },
  "cells": [
    {
      "cell_type": "markdown",
      "metadata": {
        "id": "view-in-github",
        "colab_type": "text"
      },
      "source": [
        "<a href=\"https://colab.research.google.com/github/usernamemadan/credit-card-fraud-detection/blob/master/intern.ipynb\" target=\"_parent\"><img src=\"https://colab.research.google.com/assets/colab-badge.svg\" alt=\"Open In Colab\"/></a>"
      ]
    },
    {
      "cell_type": "code",
      "metadata": {
        "id": "g1X7U13lM1FU"
      },
      "source": [
        "!pip install -U -q kaggle\n",
        "!mkdir -p ~/.kaggle\n"
      ],
      "execution_count": 1,
      "outputs": []
    },
    {
      "cell_type": "code",
      "metadata": {
        "colab": {
          "resources": {
            "http://localhost:8080/nbextensions/google.colab/files.js": {
              "data": "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",
              "ok": true,
              "headers": [
                [
                  "content-type",
                  "application/javascript"
                ]
              ],
              "status": 200,
              "status_text": ""
            }
          },
          "base_uri": "https://localhost:8080/",
          "height": 90
        },
        "id": "szmZeqJBNJWr",
        "outputId": "03bf3d53-776d-4aa0-8381-8676c4363067"
      },
      "source": [
        "from google.colab import files\n",
        "files.upload()"
      ],
      "execution_count": 2,
      "outputs": [
        {
          "output_type": "display_data",
          "data": {
            "text/html": [
              "\n",
              "     <input type=\"file\" id=\"files-d9154fb5-ae71-4c33-9843-27c31e56437f\" name=\"files[]\" multiple disabled\n",
              "        style=\"border:none\" />\n",
              "     <output id=\"result-d9154fb5-ae71-4c33-9843-27c31e56437f\">\n",
              "      Upload widget is only available when the cell has been executed in the\n",
              "      current browser session. Please rerun this cell to enable.\n",
              "      </output>\n",
              "      <script src=\"/nbextensions/google.colab/files.js\"></script> "
            ],
            "text/plain": [
              "<IPython.core.display.HTML object>"
            ]
          },
          "metadata": {
            "tags": []
          }
        },
        {
          "output_type": "stream",
          "text": [
            "Saving kaggle.json to kaggle.json\n"
          ],
          "name": "stdout"
        },
        {
          "output_type": "execute_result",
          "data": {
            "text/plain": [
              "{'kaggle.json': b'{\"username\":\"kaglekaglekagle\",\"key\":\"00b188ebbf78607277ae0ac93c57f764\"}'}"
            ]
          },
          "metadata": {
            "tags": []
          },
          "execution_count": 2
        }
      ]
    },
    {
      "cell_type": "code",
      "metadata": {
        "id": "WfShCxchNTF3"
      },
      "source": [
        "!cp kaggle.json ~/.kaggle/\n"
      ],
      "execution_count": 3,
      "outputs": []
    },
    {
      "cell_type": "code",
      "metadata": {
        "colab": {
          "base_uri": "https://localhost:8080/"
        },
        "id": "xBL0ph3LNX33",
        "outputId": "a9857a5b-bff4-4bf1-b7e5-ee538a9a89b7"
      },
      "source": [
        "!kaggle datasets list"
      ],
      "execution_count": 4,
      "outputs": [
        {
          "output_type": "stream",
          "text": [
            "Warning: Your Kaggle API key is readable by other users on this system! To fix this, you can run 'chmod 600 /root/.kaggle/kaggle.json'\n",
            "Warning: Looks like you're using an outdated API Version, please consider updating (server 1.5.12 / client 1.5.4)\n",
            "ref                                                         title                                              size  lastUpdated          downloadCount  \n",
            "----------------------------------------------------------  ------------------------------------------------  -----  -------------------  -------------  \n",
            "gpreda/reddit-vaccine-myths                                 Reddit Vaccine Myths                              229KB  2021-05-29 17:43:56           6348  \n",
            "crowww/a-large-scale-fish-dataset                           A Large Scale Fish Dataset                          3GB  2021-04-28 17:03:01           3646  \n",
            "imsparsh/musicnet-dataset                                   MusicNet Dataset                                   22GB  2021-02-18 14:12:19           1275  \n",
            "dhruvildave/wikibooks-dataset                               Wikibooks Dataset                                   1GB  2021-02-18 10:08:27           2008  \n",
            "promptcloud/careerbuilder-job-listing-2020                  Careerbuilder Job Listing 2020                     42MB  2021-03-05 06:59:52            902  \n",
            "mathurinache/twitter-edge-nodes                             Twitter Edge Nodes                                342MB  2021-03-08 06:43:04            426  \n",
            "fatiimaezzahra/famous-iconic-women                          Famous Iconic Women                               838MB  2021-02-28 14:56:00            648  \n",
            "alsgroup/end-als                                            End ALS Kaggle Challenge                           12GB  2021-04-08 12:16:37            649  \n",
            "simiotic/github-code-snippets                               GitHub Code Snippets                                7GB  2021-03-03 11:34:39            128  \n",
            "coloradokb/dandelionimages                                  DandelionImages                                     4GB  2021-02-19 20:03:47            364  \n",
            "nickuzmenkov/nih-chest-xrays-tfrecords                      NIH Chest X-rays TFRecords                         11GB  2021-03-09 04:49:23            526  \n",
            "mathurinache/the-lj-speech-dataset                          The LJ Speech Dataset                               3GB  2021-02-15 09:19:54            158  \n",
            "stuartjames/lights                                          LightS: Light Specularity Dataset                  18GB  2021-02-18 14:32:26             61  \n",
            "imsparsh/accentdb-core-extended                             AccentDB - Core & Extended                          6GB  2021-02-17 14:22:54             71  \n",
            "nickuzmenkov/ranzcr-clip-kfold-tfrecords                    RANZCR CLiP KFold TFRecords                         2GB  2021-02-21 13:29:51             81  \n",
            "landrykezebou/lvzhdr-tone-mapping-benchmark-dataset-tmonet  LVZ-HDR Tone Mapping Benchmark Dataset (TMO-Net)   24GB  2021-03-01 05:03:40             72  \n",
            "datasnaek/youtube-new                                       Trending YouTube Video Statistics                 201MB  2019-06-03 00:56:47         141083  \n",
            "zynicide/wine-reviews                                       Wine Reviews                                       51MB  2017-11-27 17:08:04         137280  \n",
            "residentmario/ramen-ratings                                 Ramen Ratings                                      40KB  2018-01-11 16:04:39          23418  \n",
            "datasnaek/chess                                             Chess Game Dataset (Lichess)                        3MB  2017-09-04 03:09:09          18644  \n"
          ],
          "name": "stdout"
        }
      ]
    },
    {
      "cell_type": "code",
      "metadata": {
        "colab": {
          "base_uri": "https://localhost:8080/"
        },
        "id": "neVfDwjZNjP_",
        "outputId": "00e9ffac-e406-4379-ede4-ad9e10983fe9"
      },
      "source": [
        "!kaggle datasets download -d mlg-ulb/creditcardfraud\n",
        "!ls"
      ],
      "execution_count": 5,
      "outputs": [
        {
          "output_type": "stream",
          "text": [
            "Warning: Your Kaggle API key is readable by other users on this system! To fix this, you can run 'chmod 600 /root/.kaggle/kaggle.json'\n",
            "Downloading creditcardfraud.zip to /content\n",
            " 86% 57.0M/66.0M [00:00<00:00, 108MB/s] \n",
            "100% 66.0M/66.0M [00:00<00:00, 96.7MB/s]\n",
            "creditcardfraud.zip  kaggle.json  sample_data\n"
          ],
          "name": "stdout"
        }
      ]
    },
    {
      "cell_type": "code",
      "metadata": {
        "id": "Tp94LKrnPF4G"
      },
      "source": [
        "import numpy as np\n",
        "import pandas as pd # data processing, CSV file I/O (e.g. pd.read_csv)\n",
        "import sys\n",
        "import matplotlib.pyplot as plt\n",
        "import seaborn as sns\n",
        "import scipy\n",
        "import sklearn"
      ],
      "execution_count": 10,
      "outputs": []
    },
    {
      "cell_type": "code",
      "metadata": {
        "id": "RObLWGRXNzMc"
      },
      "source": [
        "import pandas as pd\n",
        "data = pd.read_csv('/content/creditcardfraud.zip', compression='zip', header=0, sep=',', quotechar='\"')"
      ],
      "execution_count": 8,
      "outputs": []
    },
    {
      "cell_type": "code",
      "metadata": {
        "colab": {
          "base_uri": "https://localhost:8080/"
        },
        "id": "qkvz6eaEPKJu",
        "outputId": "443543eb-0392-403b-a750-95aee57f44b9"
      },
      "source": [
        "print(data.columns)"
      ],
      "execution_count": 11,
      "outputs": [
        {
          "output_type": "stream",
          "text": [
            "Index(['Time', 'V1', 'V2', 'V3', 'V4', 'V5', 'V6', 'V7', 'V8', 'V9', 'V10',\n",
            "       'V11', 'V12', 'V13', 'V14', 'V15', 'V16', 'V17', 'V18', 'V19', 'V20',\n",
            "       'V21', 'V22', 'V23', 'V24', 'V25', 'V26', 'V27', 'V28', 'Amount',\n",
            "       'Class'],\n",
            "      dtype='object')\n"
          ],
          "name": "stdout"
        }
      ]
    },
    {
      "cell_type": "code",
      "metadata": {
        "colab": {
          "base_uri": "https://localhost:8080/"
        },
        "id": "CuciEiXsPrDT",
        "outputId": "252f0dc4-852c-4eca-b08d-7a3d9296762f"
      },
      "source": [
        "data.shape\n"
      ],
      "execution_count": 12,
      "outputs": [
        {
          "output_type": "execute_result",
          "data": {
            "text/plain": [
              "(284807, 31)"
            ]
          },
          "metadata": {
            "tags": []
          },
          "execution_count": 12
        }
      ]
    },
    {
      "cell_type": "code",
      "metadata": {
        "colab": {
          "base_uri": "https://localhost:8080/",
          "height": 223
        },
        "id": "4oMoHA9CVBPR",
        "outputId": "bcef43ce-65bc-4ca5-cb4b-2ac5ec453cbf"
      },
      "source": [
        "data.head()"
      ],
      "execution_count": 25,
      "outputs": [
        {
          "output_type": "execute_result",
          "data": {
            "text/html": [
              "<div>\n",
              "<style scoped>\n",
              "    .dataframe tbody tr th:only-of-type {\n",
              "        vertical-align: middle;\n",
              "    }\n",
              "\n",
              "    .dataframe tbody tr th {\n",
              "        vertical-align: top;\n",
              "    }\n",
              "\n",
              "    .dataframe thead th {\n",
              "        text-align: right;\n",
              "    }\n",
              "</style>\n",
              "<table border=\"1\" class=\"dataframe\">\n",
              "  <thead>\n",
              "    <tr style=\"text-align: right;\">\n",
              "      <th></th>\n",
              "      <th>Time</th>\n",
              "      <th>V1</th>\n",
              "      <th>V2</th>\n",
              "      <th>V3</th>\n",
              "      <th>V4</th>\n",
              "      <th>V5</th>\n",
              "      <th>V6</th>\n",
              "      <th>V7</th>\n",
              "      <th>V8</th>\n",
              "      <th>V9</th>\n",
              "      <th>V10</th>\n",
              "      <th>V11</th>\n",
              "      <th>V12</th>\n",
              "      <th>V13</th>\n",
              "      <th>V14</th>\n",
              "      <th>V15</th>\n",
              "      <th>V16</th>\n",
              "      <th>V17</th>\n",
              "      <th>V18</th>\n",
              "      <th>V19</th>\n",
              "      <th>V20</th>\n",
              "      <th>V21</th>\n",
              "      <th>V22</th>\n",
              "      <th>V23</th>\n",
              "      <th>V24</th>\n",
              "      <th>V25</th>\n",
              "      <th>V26</th>\n",
              "      <th>V27</th>\n",
              "      <th>V28</th>\n",
              "      <th>Amount</th>\n",
              "      <th>Class</th>\n",
              "    </tr>\n",
              "  </thead>\n",
              "  <tbody>\n",
              "    <tr>\n",
              "      <th>169876</th>\n",
              "      <td>119907.0</td>\n",
              "      <td>-0.611712</td>\n",
              "      <td>-0.769705</td>\n",
              "      <td>-0.149759</td>\n",
              "      <td>-0.224877</td>\n",
              "      <td>2.028577</td>\n",
              "      <td>-2.019887</td>\n",
              "      <td>0.292491</td>\n",
              "      <td>-0.523020</td>\n",
              "      <td>0.358468</td>\n",
              "      <td>0.070050</td>\n",
              "      <td>-0.854023</td>\n",
              "      <td>0.547347</td>\n",
              "      <td>0.616448</td>\n",
              "      <td>-0.101785</td>\n",
              "      <td>-0.608492</td>\n",
              "      <td>-0.288559</td>\n",
              "      <td>-0.606199</td>\n",
              "      <td>-0.900746</td>\n",
              "      <td>-0.201311</td>\n",
              "      <td>-0.196039</td>\n",
              "      <td>-0.075208</td>\n",
              "      <td>0.045536</td>\n",
              "      <td>0.380739</td>\n",
              "      <td>0.023440</td>\n",
              "      <td>-2.220686</td>\n",
              "      <td>-0.201146</td>\n",
              "      <td>0.066501</td>\n",
              "      <td>0.221180</td>\n",
              "      <td>1.79</td>\n",
              "      <td>0</td>\n",
              "    </tr>\n",
              "    <tr>\n",
              "      <th>127467</th>\n",
              "      <td>78340.0</td>\n",
              "      <td>-0.814682</td>\n",
              "      <td>1.319219</td>\n",
              "      <td>1.329415</td>\n",
              "      <td>0.027273</td>\n",
              "      <td>-0.284871</td>\n",
              "      <td>-0.653985</td>\n",
              "      <td>0.321552</td>\n",
              "      <td>0.435975</td>\n",
              "      <td>-0.704298</td>\n",
              "      <td>-0.600684</td>\n",
              "      <td>0.096501</td>\n",
              "      <td>0.710309</td>\n",
              "      <td>0.778924</td>\n",
              "      <td>0.353867</td>\n",
              "      <td>0.953048</td>\n",
              "      <td>-0.103542</td>\n",
              "      <td>0.128899</td>\n",
              "      <td>-0.964070</td>\n",
              "      <td>-0.477130</td>\n",
              "      <td>-0.009041</td>\n",
              "      <td>-0.128619</td>\n",
              "      <td>-0.368565</td>\n",
              "      <td>0.090660</td>\n",
              "      <td>0.401147</td>\n",
              "      <td>-0.261034</td>\n",
              "      <td>0.080621</td>\n",
              "      <td>0.162427</td>\n",
              "      <td>0.059456</td>\n",
              "      <td>1.98</td>\n",
              "      <td>0</td>\n",
              "    </tr>\n",
              "    <tr>\n",
              "      <th>137900</th>\n",
              "      <td>82382.0</td>\n",
              "      <td>-0.318193</td>\n",
              "      <td>1.118618</td>\n",
              "      <td>0.969864</td>\n",
              "      <td>-0.127052</td>\n",
              "      <td>0.569563</td>\n",
              "      <td>-0.532484</td>\n",
              "      <td>0.706252</td>\n",
              "      <td>-0.064966</td>\n",
              "      <td>-0.463271</td>\n",
              "      <td>-0.528357</td>\n",
              "      <td>-0.813214</td>\n",
              "      <td>0.111898</td>\n",
              "      <td>1.133875</td>\n",
              "      <td>-0.649766</td>\n",
              "      <td>0.861035</td>\n",
              "      <td>0.583787</td>\n",
              "      <td>-0.344094</td>\n",
              "      <td>0.028312</td>\n",
              "      <td>0.219760</td>\n",
              "      <td>0.206028</td>\n",
              "      <td>-0.305402</td>\n",
              "      <td>-0.774704</td>\n",
              "      <td>-0.123884</td>\n",
              "      <td>-0.495687</td>\n",
              "      <td>-0.018148</td>\n",
              "      <td>0.121679</td>\n",
              "      <td>0.249050</td>\n",
              "      <td>0.092516</td>\n",
              "      <td>0.89</td>\n",
              "      <td>0</td>\n",
              "    </tr>\n",
              "    <tr>\n",
              "      <th>21513</th>\n",
              "      <td>31717.0</td>\n",
              "      <td>-1.328271</td>\n",
              "      <td>1.018378</td>\n",
              "      <td>1.775426</td>\n",
              "      <td>-1.574193</td>\n",
              "      <td>-0.117696</td>\n",
              "      <td>-0.457733</td>\n",
              "      <td>0.681867</td>\n",
              "      <td>-0.031641</td>\n",
              "      <td>0.383872</td>\n",
              "      <td>0.334853</td>\n",
              "      <td>0.905210</td>\n",
              "      <td>-0.277872</td>\n",
              "      <td>-1.336179</td>\n",
              "      <td>-0.012238</td>\n",
              "      <td>0.212828</td>\n",
              "      <td>0.769345</td>\n",
              "      <td>-1.010534</td>\n",
              "      <td>0.357288</td>\n",
              "      <td>-0.125585</td>\n",
              "      <td>0.315823</td>\n",
              "      <td>-0.220815</td>\n",
              "      <td>-0.419013</td>\n",
              "      <td>-0.239197</td>\n",
              "      <td>0.009967</td>\n",
              "      <td>0.232829</td>\n",
              "      <td>0.814177</td>\n",
              "      <td>0.098797</td>\n",
              "      <td>-0.004273</td>\n",
              "      <td>15.98</td>\n",
              "      <td>0</td>\n",
              "    </tr>\n",
              "    <tr>\n",
              "      <th>134700</th>\n",
              "      <td>80923.0</td>\n",
              "      <td>1.276712</td>\n",
              "      <td>0.617120</td>\n",
              "      <td>-0.578014</td>\n",
              "      <td>0.879173</td>\n",
              "      <td>0.061706</td>\n",
              "      <td>-1.472002</td>\n",
              "      <td>0.373692</td>\n",
              "      <td>-0.287204</td>\n",
              "      <td>-0.084482</td>\n",
              "      <td>-0.696578</td>\n",
              "      <td>0.101512</td>\n",
              "      <td>-0.433200</td>\n",
              "      <td>-0.634867</td>\n",
              "      <td>-1.188354</td>\n",
              "      <td>1.028063</td>\n",
              "      <td>0.576121</td>\n",
              "      <td>1.068353</td>\n",
              "      <td>0.332690</td>\n",
              "      <td>-0.362811</td>\n",
              "      <td>-0.105286</td>\n",
              "      <td>-0.160161</td>\n",
              "      <td>-0.430404</td>\n",
              "      <td>-0.076738</td>\n",
              "      <td>0.258708</td>\n",
              "      <td>0.552170</td>\n",
              "      <td>0.370701</td>\n",
              "      <td>-0.034255</td>\n",
              "      <td>0.041709</td>\n",
              "      <td>0.76</td>\n",
              "      <td>0</td>\n",
              "    </tr>\n",
              "  </tbody>\n",
              "</table>\n",
              "</div>"
            ],
            "text/plain": [
              "            Time        V1        V2  ...       V28  Amount  Class\n",
              "169876  119907.0 -0.611712 -0.769705  ...  0.221180    1.79      0\n",
              "127467   78340.0 -0.814682  1.319219  ...  0.059456    1.98      0\n",
              "137900   82382.0 -0.318193  1.118618  ...  0.092516    0.89      0\n",
              "21513    31717.0 -1.328271  1.018378  ... -0.004273   15.98      0\n",
              "134700   80923.0  1.276712  0.617120  ...  0.041709    0.76      0\n",
              "\n",
              "[5 rows x 31 columns]"
            ]
          },
          "metadata": {
            "tags": []
          },
          "execution_count": 25
        }
      ]
    },
    {
      "cell_type": "code",
      "metadata": {
        "colab": {
          "base_uri": "https://localhost:8080/",
          "height": 315
        },
        "id": "QYrXeQzyS_1v",
        "outputId": "bdda9608-b581-4b6c-eb11-d604ccb7a734"
      },
      "source": [
        "data.describe()"
      ],
      "execution_count": 24,
      "outputs": [
        {
          "output_type": "execute_result",
          "data": {
            "text/html": [
              "<div>\n",
              "<style scoped>\n",
              "    .dataframe tbody tr th:only-of-type {\n",
              "        vertical-align: middle;\n",
              "    }\n",
              "\n",
              "    .dataframe tbody tr th {\n",
              "        vertical-align: top;\n",
              "    }\n",
              "\n",
              "    .dataframe thead th {\n",
              "        text-align: right;\n",
              "    }\n",
              "</style>\n",
              "<table border=\"1\" class=\"dataframe\">\n",
              "  <thead>\n",
              "    <tr style=\"text-align: right;\">\n",
              "      <th></th>\n",
              "      <th>Time</th>\n",
              "      <th>V1</th>\n",
              "      <th>V2</th>\n",
              "      <th>V3</th>\n",
              "      <th>V4</th>\n",
              "      <th>V5</th>\n",
              "      <th>V6</th>\n",
              "      <th>V7</th>\n",
              "      <th>V8</th>\n",
              "      <th>V9</th>\n",
              "      <th>V10</th>\n",
              "      <th>V11</th>\n",
              "      <th>V12</th>\n",
              "      <th>V13</th>\n",
              "      <th>V14</th>\n",
              "      <th>V15</th>\n",
              "      <th>V16</th>\n",
              "      <th>V17</th>\n",
              "      <th>V18</th>\n",
              "      <th>V19</th>\n",
              "      <th>V20</th>\n",
              "      <th>V21</th>\n",
              "      <th>V22</th>\n",
              "      <th>V23</th>\n",
              "      <th>V24</th>\n",
              "      <th>V25</th>\n",
              "      <th>V26</th>\n",
              "      <th>V27</th>\n",
              "      <th>V28</th>\n",
              "      <th>Amount</th>\n",
              "      <th>Class</th>\n",
              "    </tr>\n",
              "  </thead>\n",
              "  <tbody>\n",
              "    <tr>\n",
              "      <th>count</th>\n",
              "      <td>56961.00000</td>\n",
              "      <td>56961.000000</td>\n",
              "      <td>56961.000000</td>\n",
              "      <td>56961.000000</td>\n",
              "      <td>56961.000000</td>\n",
              "      <td>56961.000000</td>\n",
              "      <td>56961.000000</td>\n",
              "      <td>56961.000000</td>\n",
              "      <td>56961.000000</td>\n",
              "      <td>56961.000000</td>\n",
              "      <td>56961.000000</td>\n",
              "      <td>56961.000000</td>\n",
              "      <td>56961.000000</td>\n",
              "      <td>56961.000000</td>\n",
              "      <td>56961.000000</td>\n",
              "      <td>56961.000000</td>\n",
              "      <td>56961.000000</td>\n",
              "      <td>56961.000000</td>\n",
              "      <td>56961.000000</td>\n",
              "      <td>56961.000000</td>\n",
              "      <td>56961.000000</td>\n",
              "      <td>56961.000000</td>\n",
              "      <td>56961.000000</td>\n",
              "      <td>56961.000000</td>\n",
              "      <td>56961.000000</td>\n",
              "      <td>56961.000000</td>\n",
              "      <td>56961.000000</td>\n",
              "      <td>56961.000000</td>\n",
              "      <td>56961.000000</td>\n",
              "      <td>56961.000000</td>\n",
              "      <td>56961.000000</td>\n",
              "    </tr>\n",
              "    <tr>\n",
              "      <th>mean</th>\n",
              "      <td>94571.23811</td>\n",
              "      <td>0.007759</td>\n",
              "      <td>-0.007820</td>\n",
              "      <td>0.010548</td>\n",
              "      <td>0.004755</td>\n",
              "      <td>-0.011918</td>\n",
              "      <td>0.002191</td>\n",
              "      <td>-0.011845</td>\n",
              "      <td>0.000873</td>\n",
              "      <td>0.007915</td>\n",
              "      <td>0.002185</td>\n",
              "      <td>-0.004426</td>\n",
              "      <td>-0.003849</td>\n",
              "      <td>0.001368</td>\n",
              "      <td>0.002554</td>\n",
              "      <td>0.001640</td>\n",
              "      <td>0.001307</td>\n",
              "      <td>0.007001</td>\n",
              "      <td>0.003073</td>\n",
              "      <td>-0.001168</td>\n",
              "      <td>0.001871</td>\n",
              "      <td>0.002932</td>\n",
              "      <td>0.003058</td>\n",
              "      <td>-0.001127</td>\n",
              "      <td>-0.001869</td>\n",
              "      <td>0.000662</td>\n",
              "      <td>0.002157</td>\n",
              "      <td>0.000632</td>\n",
              "      <td>-0.002841</td>\n",
              "      <td>88.750996</td>\n",
              "      <td>0.001527</td>\n",
              "    </tr>\n",
              "    <tr>\n",
              "      <th>std</th>\n",
              "      <td>47566.88462</td>\n",
              "      <td>1.944402</td>\n",
              "      <td>1.654560</td>\n",
              "      <td>1.495860</td>\n",
              "      <td>1.415369</td>\n",
              "      <td>1.379057</td>\n",
              "      <td>1.329111</td>\n",
              "      <td>1.209897</td>\n",
              "      <td>1.160905</td>\n",
              "      <td>1.093541</td>\n",
              "      <td>1.067004</td>\n",
              "      <td>1.017789</td>\n",
              "      <td>0.991854</td>\n",
              "      <td>0.996799</td>\n",
              "      <td>0.945133</td>\n",
              "      <td>0.915855</td>\n",
              "      <td>0.873080</td>\n",
              "      <td>0.837536</td>\n",
              "      <td>0.837648</td>\n",
              "      <td>0.816278</td>\n",
              "      <td>0.759775</td>\n",
              "      <td>0.723614</td>\n",
              "      <td>0.723845</td>\n",
              "      <td>0.654303</td>\n",
              "      <td>0.603150</td>\n",
              "      <td>0.519287</td>\n",
              "      <td>0.481474</td>\n",
              "      <td>0.393477</td>\n",
              "      <td>0.302685</td>\n",
              "      <td>254.652038</td>\n",
              "      <td>0.039052</td>\n",
              "    </tr>\n",
              "    <tr>\n",
              "      <th>min</th>\n",
              "      <td>0.00000</td>\n",
              "      <td>-46.855047</td>\n",
              "      <td>-63.344698</td>\n",
              "      <td>-31.813586</td>\n",
              "      <td>-5.266509</td>\n",
              "      <td>-42.147898</td>\n",
              "      <td>-23.496714</td>\n",
              "      <td>-26.548144</td>\n",
              "      <td>-33.785407</td>\n",
              "      <td>-8.739670</td>\n",
              "      <td>-18.271168</td>\n",
              "      <td>-4.110261</td>\n",
              "      <td>-18.553697</td>\n",
              "      <td>-4.008640</td>\n",
              "      <td>-18.049998</td>\n",
              "      <td>-4.196620</td>\n",
              "      <td>-12.675269</td>\n",
              "      <td>-25.162799</td>\n",
              "      <td>-9.042845</td>\n",
              "      <td>-7.213527</td>\n",
              "      <td>-23.420173</td>\n",
              "      <td>-16.640785</td>\n",
              "      <td>-10.933144</td>\n",
              "      <td>-36.666000</td>\n",
              "      <td>-2.836627</td>\n",
              "      <td>-7.025783</td>\n",
              "      <td>-2.534330</td>\n",
              "      <td>-8.260909</td>\n",
              "      <td>-9.617915</td>\n",
              "      <td>0.000000</td>\n",
              "      <td>0.000000</td>\n",
              "    </tr>\n",
              "    <tr>\n",
              "      <th>25%</th>\n",
              "      <td>53809.00000</td>\n",
              "      <td>-0.915616</td>\n",
              "      <td>-0.607161</td>\n",
              "      <td>-0.883553</td>\n",
              "      <td>-0.843085</td>\n",
              "      <td>-0.707818</td>\n",
              "      <td>-0.765759</td>\n",
              "      <td>-0.563241</td>\n",
              "      <td>-0.206358</td>\n",
              "      <td>-0.632800</td>\n",
              "      <td>-0.532743</td>\n",
              "      <td>-0.759871</td>\n",
              "      <td>-0.414383</td>\n",
              "      <td>-0.649076</td>\n",
              "      <td>-0.423878</td>\n",
              "      <td>-0.583304</td>\n",
              "      <td>-0.468572</td>\n",
              "      <td>-0.479784</td>\n",
              "      <td>-0.498752</td>\n",
              "      <td>-0.459078</td>\n",
              "      <td>-0.212990</td>\n",
              "      <td>-0.227125</td>\n",
              "      <td>-0.541228</td>\n",
              "      <td>-0.162431</td>\n",
              "      <td>-0.356802</td>\n",
              "      <td>-0.316805</td>\n",
              "      <td>-0.324992</td>\n",
              "      <td>-0.071111</td>\n",
              "      <td>-0.053391</td>\n",
              "      <td>5.950000</td>\n",
              "      <td>0.000000</td>\n",
              "    </tr>\n",
              "    <tr>\n",
              "      <th>50%</th>\n",
              "      <td>84511.00000</td>\n",
              "      <td>0.033625</td>\n",
              "      <td>0.061363</td>\n",
              "      <td>0.185144</td>\n",
              "      <td>-0.012678</td>\n",
              "      <td>-0.071228</td>\n",
              "      <td>-0.270147</td>\n",
              "      <td>0.030874</td>\n",
              "      <td>0.024519</td>\n",
              "      <td>-0.044122</td>\n",
              "      <td>-0.089537</td>\n",
              "      <td>-0.033737</td>\n",
              "      <td>0.137494</td>\n",
              "      <td>-0.016244</td>\n",
              "      <td>0.048926</td>\n",
              "      <td>0.052428</td>\n",
              "      <td>0.065159</td>\n",
              "      <td>-0.062709</td>\n",
              "      <td>-0.004680</td>\n",
              "      <td>-0.000518</td>\n",
              "      <td>-0.063154</td>\n",
              "      <td>-0.029706</td>\n",
              "      <td>0.010522</td>\n",
              "      <td>-0.010926</td>\n",
              "      <td>0.038833</td>\n",
              "      <td>0.017169</td>\n",
              "      <td>-0.049862</td>\n",
              "      <td>0.001250</td>\n",
              "      <td>0.010776</td>\n",
              "      <td>22.160000</td>\n",
              "      <td>0.000000</td>\n",
              "    </tr>\n",
              "    <tr>\n",
              "      <th>75%</th>\n",
              "      <td>139237.00000</td>\n",
              "      <td>1.318624</td>\n",
              "      <td>0.800511</td>\n",
              "      <td>1.031245</td>\n",
              "      <td>0.750016</td>\n",
              "      <td>0.605042</td>\n",
              "      <td>0.403820</td>\n",
              "      <td>0.558736</td>\n",
              "      <td>0.327343</td>\n",
              "      <td>0.605625</td>\n",
              "      <td>0.461624</td>\n",
              "      <td>0.731950</td>\n",
              "      <td>0.615230</td>\n",
              "      <td>0.667584</td>\n",
              "      <td>0.493618</td>\n",
              "      <td>0.652043</td>\n",
              "      <td>0.524359</td>\n",
              "      <td>0.405384</td>\n",
              "      <td>0.500456</td>\n",
              "      <td>0.459776</td>\n",
              "      <td>0.134297</td>\n",
              "      <td>0.186236</td>\n",
              "      <td>0.531158</td>\n",
              "      <td>0.148271</td>\n",
              "      <td>0.434270</td>\n",
              "      <td>0.350835</td>\n",
              "      <td>0.243869</td>\n",
              "      <td>0.089448</td>\n",
              "      <td>0.076211</td>\n",
              "      <td>77.900000</td>\n",
              "      <td>0.000000</td>\n",
              "    </tr>\n",
              "    <tr>\n",
              "      <th>max</th>\n",
              "      <td>172784.00000</td>\n",
              "      <td>2.411499</td>\n",
              "      <td>17.418649</td>\n",
              "      <td>4.069865</td>\n",
              "      <td>16.715537</td>\n",
              "      <td>34.099309</td>\n",
              "      <td>22.529298</td>\n",
              "      <td>36.677268</td>\n",
              "      <td>19.587773</td>\n",
              "      <td>10.370658</td>\n",
              "      <td>12.901627</td>\n",
              "      <td>11.228470</td>\n",
              "      <td>4.403899</td>\n",
              "      <td>4.369998</td>\n",
              "      <td>7.421944</td>\n",
              "      <td>5.825654</td>\n",
              "      <td>6.351853</td>\n",
              "      <td>9.253526</td>\n",
              "      <td>5.041069</td>\n",
              "      <td>5.228342</td>\n",
              "      <td>39.420904</td>\n",
              "      <td>22.588989</td>\n",
              "      <td>6.090514</td>\n",
              "      <td>18.946734</td>\n",
              "      <td>3.962197</td>\n",
              "      <td>5.541598</td>\n",
              "      <td>3.155327</td>\n",
              "      <td>11.135740</td>\n",
              "      <td>15.373170</td>\n",
              "      <td>19656.530000</td>\n",
              "      <td>1.000000</td>\n",
              "    </tr>\n",
              "  </tbody>\n",
              "</table>\n",
              "</div>"
            ],
            "text/plain": [
              "               Time            V1  ...        Amount         Class\n",
              "count   56961.00000  56961.000000  ...  56961.000000  56961.000000\n",
              "mean    94571.23811      0.007759  ...     88.750996      0.001527\n",
              "std     47566.88462      1.944402  ...    254.652038      0.039052\n",
              "min         0.00000    -46.855047  ...      0.000000      0.000000\n",
              "25%     53809.00000     -0.915616  ...      5.950000      0.000000\n",
              "50%     84511.00000      0.033625  ...     22.160000      0.000000\n",
              "75%    139237.00000      1.318624  ...     77.900000      0.000000\n",
              "max    172784.00000      2.411499  ...  19656.530000      1.000000\n",
              "\n",
              "[8 rows x 31 columns]"
            ]
          },
          "metadata": {
            "tags": []
          },
          "execution_count": 24
        }
      ]
    },
    {
      "cell_type": "code",
      "metadata": {
        "colab": {
          "base_uri": "https://localhost:8080/"
        },
        "id": "WeNd1_JTPwlh",
        "outputId": "267dcd7a-344f-4fc0-e027-466d591da580"
      },
      "source": [
        "# random_state helps assure that you always get the same output when you split the data\n",
        "# this helps create reproducible results and it does not actually matter what the number is\n",
        "# frac is percentage of the data that will be returned\n",
        "data = data.sample(frac = 0.2, random_state = 1)\n",
        "print(data.shape)"
      ],
      "execution_count": 14,
      "outputs": [
        {
          "output_type": "stream",
          "text": [
            "(56961, 31)\n"
          ],
          "name": "stdout"
        }
      ]
    },
    {
      "cell_type": "code",
      "metadata": {
        "colab": {
          "base_uri": "https://localhost:8080/",
          "height": 1000
        },
        "id": "mzHfZN-eP4Ey",
        "outputId": "96f626a4-b4d9-4d48-87e1-fed9a767b30b"
      },
      "source": [
        "# plot the histogram of each parameter\n",
        "data.hist(figsize = (20, 20))\n",
        "plt.show()"
      ],
      "execution_count": 15,
      "outputs": [
        {
          "output_type": "display_data",
          "data": {
            "image/png": "[encoded data removed]",
            "text/plain": [
              "<Figure size 1440x1440 with 36 Axes>"
            ]
          },
          "metadata": {
            "tags": [],
            "needs_background": "light"
          }
        }
      ]
    },
    {
      "cell_type": "code",
      "metadata": {
        "colab": {
          "base_uri": "https://localhost:8080/"
        },
        "id": "COt0XYQqP7e7",
        "outputId": "cd22eb2f-0816-4dec-e7b6-77ff10d52926"
      },
      "source": [
        "# determine the number of fraud cases\n",
        "fraud = data[data['Class'] == 1]\n",
        "valid = data[data['Class'] == 0]\n",
        "\n",
        "outlier_fraction = len(fraud) / float(len(valid))\n",
        "print(outlier_fraction)\n",
        "\n",
        "print('Fraud Cases: {}'.format(len(fraud)))\n",
        "print('Valid Cases: {}'.format(len(valid)))"
      ],
      "execution_count": 16,
      "outputs": [
        {
          "output_type": "stream",
          "text": [
            "0.0015296972254457222\n",
            "Fraud Cases: 87\n",
            "Valid Cases: 56874\n"
          ],
          "name": "stdout"
        }
      ]
    },
    {
      "cell_type": "code",
      "metadata": {
        "colab": {
          "base_uri": "https://localhost:8080/",
          "height": 570
        },
        "id": "bnVU2q6gP_PF",
        "outputId": "10880eab-d68f-4de8-b6ec-f6fdb9b01ad5"
      },
      "source": [
        "# correlation matrix\n",
        "corrmat = data.corr()\n",
        "fig = plt.figure(figsize = (12, 9))\n",
        "\n",
        "sns.heatmap(corrmat, vmax = .8, square = True)\n",
        "plt.show()"
      ],
      "execution_count": 17,
      "outputs": [
        {
          "output_type": "display_data",
          "data": {
            "image/png": "[encoded data removed]",
            "text/plain": [
              "<Figure size 864x648 with 2 Axes>"
            ]
          },
          "metadata": {
            "tags": [],
            "needs_background": "light"
          }
        }
      ]
    },
    {
      "cell_type": "code",
      "metadata": {
        "colab": {
          "base_uri": "https://localhost:8080/"
        },
        "id": "EImNLbQaQDnX",
        "outputId": "f586e5c1-b275-4a59-bc03-ff09c79e8a0c"
      },
      "source": [
        "# get the columns from the dataframe\n",
        "columns = data.columns.tolist()\n",
        "\n",
        "# filter the columns to remove the data we do not want\n",
        "columns = [c for c in columns if c not in ['Class']]\n",
        "\n",
        "# store the variable we will be predicting on which is class\n",
        "target = 'Class'\n",
        "\n",
        "# X includes everything except our class column\n",
        "X = data[columns]\n",
        "# Y includes all the class labels for each sample\n",
        "# this is also one-dimensional\n",
        "Y = data[target]\n",
        "\n",
        "# print the shapes of X and Y\n",
        "print(X.shape)\n",
        "print(Y.shape)"
      ],
      "execution_count": 18,
      "outputs": [
        {
          "output_type": "stream",
          "text": [
            "(56961, 30)\n",
            "(56961,)\n"
          ],
          "name": "stdout"
        }
      ]
    },
    {
      "cell_type": "code",
      "metadata": {
        "id": "Ju_qQ5QpQHBj"
      },
      "source": [
        "from sklearn.metrics import classification_report, accuracy_score\n",
        "from sklearn.ensemble import IsolationForest\n",
        "from sklearn.neighbors import LocalOutlierFactor"
      ],
      "execution_count": 20,
      "outputs": []
    },
    {
      "cell_type": "code",
      "metadata": {
        "id": "CmE-zuDMQRnJ"
      },
      "source": [
        "# define a random state\n",
        "state = 1\n",
        "\n",
        "# define the outlier detection methods\n",
        "classifiers = {\n",
        "    # contamination is the number of outliers we think there are\n",
        "    'Isolation Forest': IsolationForest(max_samples = len(X),\n",
        "                                       contamination = outlier_fraction,\n",
        "                                       random_state = state),\n",
        "    # number of neighbors to consider, the higher the percentage of outliers the higher you want to make this number\n",
        "    'Local Outlier Factor': LocalOutlierFactor(\n",
        "    n_neighbors = 20,\n",
        "    contamination = outlier_fraction)\n",
        "}"
      ],
      "execution_count": 21,
      "outputs": []
    },
    {
      "cell_type": "code",
      "metadata": {
        "colab": {
          "base_uri": "https://localhost:8080/"
        },
        "id": "SwmYBnMSQXKF",
        "outputId": "1cd6c60c-16ca-4fa6-a1f0-3069e224c515"
      },
      "source": [
        "n_outliers = len(fraud)\n",
        "\n",
        "for i, (clf_name, clf) in enumerate(classifiers.items()):\n",
        "    \n",
        "    # fit the data and tag outliers\n",
        "    if clf_name == 'Local Outlier Factor':\n",
        "        y_pred = clf.fit_predict(X)\n",
        "        scores_pred = clf.negative_outlier_factor_\n",
        "    else:\n",
        "        clf.fit(X)\n",
        "        scores_pred = clf.decision_function(X)\n",
        "        y_pred = clf.predict(X)\n",
        "        \n",
        "    # reshape the prediction values to 0 for valid and 1 for fraud\n",
        "    y_pred[y_pred == 1] = 0\n",
        "    y_pred[y_pred == -1] = 1\n",
        "\n",
        "    # calculate the number of errors\n",
        "    n_errors = (y_pred != Y).sum()\n",
        "    \n",
        "    # classification matrix\n",
        "    print('{}: {}'.format(clf_name, n_errors))\n",
        "    print(accuracy_score(Y, y_pred))\n",
        "    print(classification_report(Y, y_pred))"
      ],
      "execution_count": 22,
      "outputs": [
        {
          "output_type": "stream",
          "text": [
            "Isolation Forest: 129\n",
            "0.9977352925685996\n",
            "              precision    recall  f1-score   support\n",
            "\n",
            "           0       1.00      1.00      1.00     56874\n",
            "           1       0.26      0.26      0.26        87\n",
            "\n",
            "    accuracy                           1.00     56961\n",
            "   macro avg       0.63      0.63      0.63     56961\n",
            "weighted avg       1.00      1.00      1.00     56961\n",
            "\n",
            "Local Outlier Factor: 173\n",
            "0.9969628342199048\n",
            "              precision    recall  f1-score   support\n",
            "\n",
            "           0       1.00      1.00      1.00     56874\n",
            "           1       0.01      0.01      0.01        87\n",
            "\n",
            "    accuracy                           1.00     56961\n",
            "   macro avg       0.50      0.50      0.50     56961\n",
            "weighted avg       1.00      1.00      1.00     56961\n",
            "\n"
          ],
          "name": "stdout"
        }
      ]
    }
  ]
}